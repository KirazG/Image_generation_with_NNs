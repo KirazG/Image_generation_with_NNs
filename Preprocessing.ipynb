{
 "cells": [
  {
   "cell_type": "markdown",
   "metadata": {},
   "source": [
    "## Preprocessing"
   ]
  },
  {
   "cell_type": "markdown",
   "metadata": {},
   "source": [
    "#### Import libraries"
   ]
  },
  {
   "cell_type": "code",
   "execution_count": 1,
   "metadata": {
    "scrolled": true
   },
   "outputs": [],
   "source": [
    "import numpy as np\n",
    "import matplotlib.pyplot as plt\n",
    "% matplotlib inline\n",
    "\n",
    "\n",
    "import pandas as pd\n",
    "import os\n",
    "import cv2\n",
    "import PIL\n",
    "import random"
   ]
  },
  {
   "cell_type": "markdown",
   "metadata": {},
   "source": [
    "#### Resize images"
   ]
  },
  {
   "cell_type": "code",
   "execution_count": 2,
   "metadata": {
    "collapsed": true
   },
   "outputs": [],
   "source": [
    "counter = 0\n",
    "file_path = []\n",
    "orig_height = []\n",
    "orig_width = []\n",
    "\n",
    "## find images scraped from urls\n",
    "for file in os.listdir('Trial_pics/Round_normal'):\n",
    "    if file.endswith('.jpg'):\n",
    "        path = 'Trial_pics/Round_normal/' + file\n",
    "        img = cv2.imread(path, 1)\n",
    "        if img is None:\n",
    "            print(file)\n",
    "        else:\n",
    "            counter = counter + 1 \n",
    "            img = cv2.imread(path, 0)\n",
    "            ratio = img.shape[0]/img.shape[1]\n",
    "            orig_height.append(img.shape[0])\n",
    "            orig_width.append(img.shape[1])\n",
    "            # reshape images and save into new folder\n",
    "            if ratio > 1:  # if height> width\n",
    "                remove = (img.shape[0]-img.shape[1])/2\n",
    "                h_0 = int(0 + remove)\n",
    "                h_f = int(img.shape[0]-remove)\n",
    "                crop_img = img[h_0:h_f, 0:img.shape[1]]\n",
    "                res_img = cv2.resize(crop_img, (100,100), interpolation=cv2.INTER_LINEAR)\n",
    "                new_file = 'Small_sized/picture' + str(counter) + '.png'\n",
    "                cv2.imwrite(new_file, res_img)\n",
    "                file_path.append(new_file)\n",
    "            else: \n",
    "                remove = (img.shape[1]-img.shape[0])/2\n",
    "                w_0 = int(0 + remove)\n",
    "                w_f = int(img.shape[1]-remove)\n",
    "                crop_img = img[0:img.shape[1], w_0:w_f]\n",
    "                res_img = cv2.resize(crop_img, (100,100), interpolation=cv2.INTER_LINEAR)\n",
    "                new_file = 'Small_sized/picture' + str(counter) + '.png'\n",
    "                cv2.imwrite(new_file, res_img)\n",
    "                file_path.append(new_file)"
   ]
  },
  {
   "cell_type": "markdown",
   "metadata": {},
   "source": [
    "#### Preprocessing"
   ]
  },
  {
   "cell_type": "code",
   "execution_count": 3,
   "metadata": {},
   "outputs": [],
   "source": [
    "# informational DataFrame of images. not necessary to use DataFrame, could use a just the list\n",
    "df = pd.DataFrame()\n",
    "df['path'] = file_path\n",
    "df.head()"
   ]
  },
  {
   "cell_type": "code",
   "execution_count": 4,
   "metadata": {
    "collapsed": true
   },
   "outputs": [],
   "source": [
    "# flatten images and standardize so pixel values are between 0 and 1\n",
    "data = []\n",
    "for i in df['path']:\n",
    "    img =  cv2.imread(i, 0)\n",
    "    data.append(img.flatten()/255.)"
   ]
  },
  {
   "cell_type": "code",
   "execution_count": 5,
   "metadata": {},
   "outputs": [],
   "source": [
    "# create a DataFrame of pixels\n",
    "pixels = pd.DataFrame(data)\n",
    "pixels.head()"
   ]
  },
  {
   "cell_type": "code",
   "execution_count": 6,
   "metadata": {
    "collapsed": true
   },
   "outputs": [],
   "source": [
    "# create numpy array of pixels in preparation of feeding into keras/tensorflow model\n",
    "X = np.array(pixels)"
   ]
  },
  {
   "cell_type": "code",
   "execution_count": 7,
   "metadata": {
    "collapsed": true
   },
   "outputs": [],
   "source": [
    "# shuffle pictures and split into train and test sets\n",
    "random.shuffle(X)\n",
    "x_train = X[:300]\n",
    "x_test = X[300:]"
   ]
  },
  {
   "cell_type": "code",
   "execution_count": 8,
   "metadata": {
    "collapsed": true
   },
   "outputs": [],
   "source": [
    "# reshape. this final shape will go into model\n",
    "x_train = x_train.reshape(x_train.shape[0], 100, 100,1)\n",
    "x_test = x_test.reshape(x_test.shape[0], 100, 100, 1)"
   ]
  }
 ],
 "metadata": {
  "kernelspec": {
   "display_name": "Python 3",
   "language": "python",
   "name": "python3"
  },
  "language_info": {
   "codemirror_mode": {
    "name": "ipython",
    "version": 3
   },
   "file_extension": ".py",
   "mimetype": "text/x-python",
   "name": "python",
   "nbconvert_exporter": "python",
   "pygments_lexer": "ipython3",
   "version": "3.6.1"
  }
 },
 "nbformat": 4,
 "nbformat_minor": 2
}
